{
  "nbformat": 4,
  "nbformat_minor": 0,
  "metadata": {
    "colab": {
      "name": "day5LU.ipynb",
      "provenance": []
    },
    "kernelspec": {
      "name": "python3",
      "display_name": "Python 3"
    }
  },
  "cells": [
    {
      "cell_type": "markdown",
      "metadata": {
        "id": "56Y69qn4nGQ2",
        "colab_type": "text"
      },
      "source": [
        "**Find the first 20 non-even prime natural numbers**"
      ]
    },
    {
      "cell_type": "code",
      "metadata": {
        "id": "8-8QOi_snB5P",
        "colab_type": "code",
        "colab": {
          "base_uri": "https://localhost:8080/",
          "height": 34
        },
        "outputId": "73428d75-b695-4422-dda2-57f7e3ca879e"
      },
      "source": [
        "def isPrime(y):\n",
        "  i=2\n",
        "  while i < y:\n",
        "    if y%i == 0 :\n",
        "      return False\n",
        "    i=i+1\n",
        "  return True\n",
        "\n",
        "count = 0\n",
        "n = 2\n",
        "while count < 20:\n",
        "  if n%2==1 and isPrime(n):\n",
        "    print(n, end=', ')\n",
        "    count +=1\n",
        "  n=n+1"
      ],
      "execution_count": 9,
      "outputs": [
        {
          "output_type": "stream",
          "text": [
            "3, 5, 7, 11, 13, 17, 19, 23, 29, 31, 37, 41, 43, 47, 53, 59, 61, 67, 71, 73, "
          ],
          "name": "stdout"
        }
      ]
    },
    {
      "cell_type": "markdown",
      "metadata": {
        "id": "xaKAB1ywoRgE",
        "colab_type": "text"
      },
      "source": [
        "**Check if the given string is a Palindrome or Anagram or None of them**"
      ]
    },
    {
      "cell_type": "code",
      "metadata": {
        "id": "LquolzLVojtX",
        "colab_type": "code",
        "colab": {
          "base_uri": "https://localhost:8080/",
          "height": 51
        },
        "outputId": "54b37a77-a029-407e-f55a-483b1c66fb7c"
      },
      "source": [
        "print(range(0, 10, 2))\n",
        "for i in range(0, 10, 2):\n",
        "    print(i, end=', ') # Print only even numbers between 0-10 using step of 2"
      ],
      "execution_count": 2,
      "outputs": [
        {
          "output_type": "stream",
          "text": [
            "range(0, 10, 2)\n",
            "0, 2, 4, 6, 8, "
          ],
          "name": "stdout"
        }
      ]
    },
    {
      "cell_type": "markdown",
      "metadata": {
        "id": "h9wIV36PpePc",
        "colab_type": "text"
      },
      "source": [
        "**Function that removes all the additional characters from the string\n",
        "and converts it finally to lower case**"
      ]
    },
    {
      "cell_type": "code",
      "metadata": {
        "id": "_CadK-wOpgN4",
        "colab_type": "code",
        "colab": {
          "base_uri": "https://localhost:8080/",
          "height": 34
        },
        "outputId": "94d59383-e93d-4a45-bb91-07c95b31bbdf"
      },
      "source": [
        "def correct_string(input_str):\n",
        "  filtered_str = ''.join(e for e in input_str if e.isalnum())\n",
        "  final_str = filtered_str.lower()\n",
        "  return final_str\n",
        "\n",
        "test = \"Dr. Darshan Ingle@AI-ML Trainer\"\n",
        "print(\"Result is\", correct_string(test))"
      ],
      "execution_count": 8,
      "outputs": [
        {
          "output_type": "stream",
          "text": [
            "Result is drdarshaningleaimltrainer\n"
          ],
          "name": "stdout"
        }
      ]
    },
    {
      "cell_type": "markdown",
      "metadata": {
        "id": "aPDJkfOXqcIu",
        "colab_type": "text"
      },
      "source": [
        "**Implement 15 functions of string**"
      ]
    },
    {
      "cell_type": "code",
      "metadata": {
        "id": "AJYktD2jqd9Z",
        "colab_type": "code",
        "colab": {
          "base_uri": "https://localhost:8080/",
          "height": 272
        },
        "outputId": "57eca753-aa98-4e54-c2de-dd3f739c5ba3"
      },
      "source": [
        "var = ' LetsUpgrade AiMl PrograM '\n",
        "print (var.capitalize()) #string with the first character capitalized and rest of the characters in lower case\n",
        "print (var.lower()) #all the characters of the String to lowercase\n",
        "print (var.upper()) #all the characters of the String to uppercase\n",
        "print (var.swapcase()) #swaps the case of characters\n",
        "print (var.title()) #Similar to capiltalize but for all words\n",
        "print (var.islower()) #check if all chacters are lowercase\n",
        "print (var.isupper()) #check if all chacters are lowercase\n",
        "print (var.lstrip()) #removes whitespaces from begining\n",
        "print (var.rstrip()) #removes whitespaces from end\n",
        "print (var.strip()) #removes whitespaces\n",
        "print (len(var)) #Number of characters in string\n",
        "\n",
        "num = '1234'\n",
        "print (num.isdigit()) #check if string has onlu number\n",
        "print (num.isalpha()) #check if string has only alphabets\n",
        "\n",
        "var2 = \"Python\"\n",
        "print (var2.startswith('Py')) #check if string starts with given string\n",
        "print (var2.endswith('on')) #check if string ends with given string"
      ],
      "execution_count": 10,
      "outputs": [
        {
          "output_type": "stream",
          "text": [
            " letsupgrade aiml program \n",
            " letsupgrade aiml program \n",
            " LETSUPGRADE AIML PROGRAM \n",
            " lETSuPGRADE aImL pROGRAm \n",
            " Letsupgrade Aiml Program \n",
            "False\n",
            "False\n",
            "LetsUpgrade AiMl PrograM \n",
            " LetsUpgrade AiMl PrograM\n",
            "LetsUpgrade AiMl PrograM\n",
            "26\n",
            "True\n",
            "False\n",
            "True\n",
            "True\n"
          ],
          "name": "stdout"
        }
      ]
    }
  ]
}