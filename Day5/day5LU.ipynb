{
  "nbformat": 4,
  "nbformat_minor": 0,
  "metadata": {
    "colab": {
      "name": "day5LU.ipynb",
      "provenance": []
    },
    "kernelspec": {
      "name": "python3",
      "display_name": "Python 3"
    }
  },
  "cells": [
    {
      "cell_type": "markdown",
      "metadata": {
        "id": "56Y69qn4nGQ2",
        "colab_type": "text"
      },
      "source": [
        "**Find the first 20 non-even prime natural numbers**"
      ]
    },
    {
      "cell_type": "code",
      "metadata": {
        "id": "8-8QOi_snB5P",
        "colab_type": "code",
        "colab": {
          "base_uri": "https://localhost:8080/",
          "height": 34
        },
        "outputId": "5d24e53f-4561-4722-b144-242af0c843a3"
      },
      "source": [
        "def isPrime(y):\n",
        "  i=2\n",
        "  while i < y:\n",
        "    if y%i == 0 :\n",
        "      return False\n",
        "    i=i+1\n",
        "  return True\n",
        "\n",
        "count = 0\n",
        "n = 2\n",
        "while count < 20:\n",
        "  if n%2==1 and isPrime(n):\n",
        "    print(n, end=', ')\n",
        "    count +=1\n",
        "  n=n+1"
      ],
      "execution_count": 1,
      "outputs": [
        {
          "output_type": "stream",
          "text": [
            "3, 5, 7, 11, 13, 17, 19, 23, 29, 31, 37, 41, 43, 47, 53, 59, 61, 67, 71, 73, "
          ],
          "name": "stdout"
        }
      ]
    },
    {
      "cell_type": "markdown",
      "metadata": {
        "id": "xaKAB1ywoRgE",
        "colab_type": "text"
      },
      "source": [
        "**Check if the given string is a Palindrome or Anagram or None of them**"
      ]
    },
    {
      "cell_type": "code",
      "metadata": {
        "id": "LquolzLVojtX",
        "colab_type": "code",
        "colab": {
          "base_uri": "https://localhost:8080/",
          "height": 68
        },
        "outputId": "b878ba60-b3a5-447e-bc17-8fce291da331"
      },
      "source": [
        "def check_anagram(str1, str2):\n",
        "  sorted1 = sorted(str1)\n",
        "  sorted2 = sorted(str2)\n",
        "  if sorted1 == sorted2:\n",
        "    return True\n",
        "  else:\n",
        "    return False\n",
        "\n",
        "def check_palindrome(s):\n",
        "  return s == s[::-1]\n",
        "\n",
        "list_str = [\"car\", \"tree\", \"boy\", \"girl\", \"arc\", \"racecar\"]\n",
        "\n",
        "for s1 in list_str:\n",
        "  if check_palindrome(s1):\n",
        "    print(\"Palindrome:\",s1)\n",
        "  for s2 in list_str:\n",
        "    if s1!=s2 and check_anagram(s1,s2):\n",
        "        print(\"Anagrams:\",s1, s2)"
      ],
      "execution_count": 2,
      "outputs": [
        {
          "output_type": "stream",
          "text": [
            "Anagrams: car arc\n",
            "Anagrams: arc car\n",
            "Palindrome: racecar\n"
          ],
          "name": "stdout"
        }
      ]
    },
    {
      "cell_type": "markdown",
      "metadata": {
        "id": "h9wIV36PpePc",
        "colab_type": "text"
      },
      "source": [
        "**Function that removes all the additional characters from the string\n",
        "and converts it finally to lower case**"
      ]
    },
    {
      "cell_type": "code",
      "metadata": {
        "id": "_CadK-wOpgN4",
        "colab_type": "code",
        "colab": {
          "base_uri": "https://localhost:8080/",
          "height": 34
        },
        "outputId": "fa46bb55-be06-45b4-e065-11030deb3011"
      },
      "source": [
        "def correct_string(input_str):\n",
        "  filtered_str = ''.join(e for e in input_str if e.isalnum())\n",
        "  final_str = filtered_str.lower()\n",
        "  return final_str\n",
        "\n",
        "test = \"Dr. Darshan Ingle@AI-ML Trainer\"\n",
        "print(\"Result is\", correct_string(test))"
      ],
      "execution_count": 3,
      "outputs": [
        {
          "output_type": "stream",
          "text": [
            "Result is drdarshaningleaimltrainer\n"
          ],
          "name": "stdout"
        }
      ]
    },
    {
      "cell_type": "markdown",
      "metadata": {
        "id": "aPDJkfOXqcIu",
        "colab_type": "text"
      },
      "source": [
        "**Implement 15 functions of string**"
      ]
    },
    {
      "cell_type": "code",
      "metadata": {
        "id": "AJYktD2jqd9Z",
        "colab_type": "code",
        "colab": {
          "base_uri": "https://localhost:8080/",
          "height": 272
        },
        "outputId": "b66ea920-899e-4c9a-9bc0-1bae2bfec079"
      },
      "source": [
        "var = ' LetsUpgrade AiMl PrograM '\n",
        "print (var.capitalize()) #string with the first character capitalized and rest of the characters in lower case\n",
        "print (var.lower()) #all the characters of the String to lowercase\n",
        "print (var.upper()) #all the characters of the String to uppercase\n",
        "print (var.swapcase()) #swaps the case of characters\n",
        "print (var.title()) #Similar to capiltalize but for all words\n",
        "print (var.islower()) #check if all chacters are lowercase\n",
        "print (var.isupper()) #check if all chacters are lowercase\n",
        "print (var.lstrip()) #removes whitespaces from begining\n",
        "print (var.rstrip()) #removes whitespaces from end\n",
        "print (var.strip()) #removes whitespaces\n",
        "print (len(var)) #Number of characters in string\n",
        "\n",
        "num = '1234'\n",
        "print (num.isdigit()) #check if string has onlu number\n",
        "print (num.isalpha()) #check if string has only alphabets\n",
        "\n",
        "var2 = \"Python\"\n",
        "print (var2.startswith('Py')) #check if string starts with given string\n",
        "print (var2.endswith('on')) #check if string ends with given string"
      ],
      "execution_count": 4,
      "outputs": [
        {
          "output_type": "stream",
          "text": [
            " letsupgrade aiml program \n",
            " letsupgrade aiml program \n",
            " LETSUPGRADE AIML PROGRAM \n",
            " lETSuPGRADE aImL pROGRAm \n",
            " Letsupgrade Aiml Program \n",
            "False\n",
            "False\n",
            "LetsUpgrade AiMl PrograM \n",
            " LetsUpgrade AiMl PrograM\n",
            "LetsUpgrade AiMl PrograM\n",
            "26\n",
            "True\n",
            "False\n",
            "True\n",
            "True\n"
          ],
          "name": "stdout"
        }
      ]
    }
  ]
}