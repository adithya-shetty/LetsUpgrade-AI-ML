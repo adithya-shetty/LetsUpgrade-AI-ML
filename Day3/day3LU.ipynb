{
  "nbformat": 4,
  "nbformat_minor": 0,
  "metadata": {
    "colab": {
      "name": "day3LU.ipynb",
      "provenance": []
    },
    "kernelspec": {
      "name": "python3",
      "display_name": "Python 3"
    }
  },
  "cells": [
    {
      "cell_type": "markdown",
      "metadata": {
        "id": "56Y69qn4nGQ2",
        "colab_type": "text"
      },
      "source": [
        "**Write a program to subtract two complex numbers in Python.**"
      ]
    },
    {
      "cell_type": "code",
      "metadata": {
        "id": "8-8QOi_snB5P",
        "colab_type": "code",
        "colab": {
          "base_uri": "https://localhost:8080/",
          "height": 34
        },
        "outputId": "684a3096-8f01-49f7-b6ca-1bc9c2748c55"
      },
      "source": [
        "complex1 = 2+6j \n",
        "complex2 = 5+3j \n",
        "print( \"Subtraction of\",complex1, \" and\", complex2, \" is\",  complex1-complex2) "
      ],
      "execution_count": 1,
      "outputs": [
        {
          "output_type": "stream",
          "text": [
            "Subtraction of (2+6j)  and (5+3j)  is (-3+3j)\n"
          ],
          "name": "stdout"
        }
      ]
    },
    {
      "cell_type": "markdown",
      "metadata": {
        "id": "xaKAB1ywoRgE",
        "colab_type": "text"
      },
      "source": [
        "**Write a program to find the fourth root of a number.**"
      ]
    },
    {
      "cell_type": "code",
      "metadata": {
        "id": "LquolzLVojtX",
        "colab_type": "code",
        "colab": {
          "base_uri": "https://localhost:8080/",
          "height": 34
        },
        "outputId": "4218a252-4c99-4cee-caac-50a8c6e29679"
      },
      "source": [
        "number = 64\n",
        "print( \"4th root of\",number, \" is\",  number**(1/4)) "
      ],
      "execution_count": 2,
      "outputs": [
        {
          "output_type": "stream",
          "text": [
            "4th root of 64  is 2.8284271247461903\n"
          ],
          "name": "stdout"
        }
      ]
    },
    {
      "cell_type": "markdown",
      "metadata": {
        "id": "h9wIV36PpePc",
        "colab_type": "text"
      },
      "source": [
        "**Write a program to swap two numbers in Python with the help of a temporary variable.**"
      ]
    },
    {
      "cell_type": "code",
      "metadata": {
        "id": "_CadK-wOpgN4",
        "colab_type": "code",
        "colab": {
          "base_uri": "https://localhost:8080/",
          "height": 85
        },
        "outputId": "5adb7400-eb5f-431c-e039-5d2b0e231dd5"
      },
      "source": [
        "number1 = 10\n",
        "number2 = 20\n",
        "\n",
        "print('The value of number1 before swapping', number1)\n",
        "print('The value of number2 before swapping', number2)\n",
        "\n",
        "temp = number1 #create temp variable\n",
        "number1 = number2\n",
        "number2 = temp\n",
        "\n",
        "print('The value of number1 after swapping', number1)\n",
        "print('The value of number2 after swapping', number2)"
      ],
      "execution_count": 3,
      "outputs": [
        {
          "output_type": "stream",
          "text": [
            "The value of number1 before swapping 10\n",
            "The value of number2 before swapping 20\n",
            "The value of number1 after swapping 20\n",
            "The value of number2 after swapping 10\n"
          ],
          "name": "stdout"
        }
      ]
    },
    {
      "cell_type": "markdown",
      "metadata": {
        "id": "aPDJkfOXqcIu",
        "colab_type": "text"
      },
      "source": [
        "**Write a program to swap two numbers in Python without using a temporary variable.**"
      ]
    },
    {
      "cell_type": "code",
      "metadata": {
        "id": "AJYktD2jqd9Z",
        "colab_type": "code",
        "colab": {
          "base_uri": "https://localhost:8080/",
          "height": 85
        },
        "outputId": "38bb3e55-ff4a-4979-a717-a5e60efe6682"
      },
      "source": [
        "number1 = 30\n",
        "number2 = 40\n",
        "\n",
        "print('The value of number1 before swapping', number1)\n",
        "print('The value of number2 before swapping', number2)\n",
        "\n",
        "number1, number2 = number2, number1\n",
        "\n",
        "print('The value of number1 after swapping', number1)\n",
        "print('The value of number2 after swapping', number2)"
      ],
      "execution_count": 4,
      "outputs": [
        {
          "output_type": "stream",
          "text": [
            "The value of number1 before swapping 30\n",
            "The value of number2 before swapping 40\n",
            "The value of number1 after swapping 40\n",
            "The value of number2 after swapping 30\n"
          ],
          "name": "stdout"
        }
      ]
    },
    {
      "cell_type": "markdown",
      "metadata": {
        "id": "Z-njcryBrEgr",
        "colab_type": "text"
      },
      "source": [
        "**Write a program to convert fahrenheit to kelvin and celsius both.**"
      ]
    },
    {
      "cell_type": "code",
      "metadata": {
        "id": "kWnyzBR8rHJv",
        "colab_type": "code",
        "colab": {
          "base_uri": "https://localhost:8080/",
          "height": 34
        },
        "outputId": "408e7f76-8dde-4879-9c22-c62e6cede3ee"
      },
      "source": [
        "temp_fahrenheit = 111.5\n",
        "temp_celsius = (temp_fahrenheit - 32.0) * (5.0/9.0)\n",
        "temp_kelvin = 273.5 + temp_celsius\n",
        "print( \"fahrenheit:\", temp_fahrenheit, \" celsius:\", temp_celsius, \" kelvin:\",  temp_kelvin) "
      ],
      "execution_count": 5,
      "outputs": [
        {
          "output_type": "stream",
          "text": [
            "fahrenheit: 111.5  celsius: 44.16666666666667  kelvin: 317.6666666666667\n"
          ],
          "name": "stdout"
        }
      ]
    },
    {
      "cell_type": "markdown",
      "metadata": {
        "id": "_su2MK7Js_lb",
        "colab_type": "text"
      },
      "source": [
        "**Write a program to demonstrate all the available data types in Python**"
      ]
    },
    {
      "cell_type": "code",
      "metadata": {
        "id": "zbeYasFytBjH",
        "colab_type": "code",
        "colab": {
          "base_uri": "https://localhost:8080/",
          "height": 187
        },
        "outputId": "7567133c-c9f3-451f-8977-928fbe2205b1"
      },
      "source": [
        "print(type(10)) #Type -> int\n",
        "print(type(0o10)) #Type -> int\n",
        "print(type(0x10)) #Type -> int\n",
        "print(type(4.2)) #Type -> float\n",
        "print(type(3.2E-5)) #Type -> float\n",
        "print(type(2+3j)) #Type -> complex\n",
        "print(type('string')) #Type -> string\n",
        "print(type(\"string2\")) #Type -> string\n",
        "print(type(True)) #Type -> boolean\n",
        "print(type(False)) #Type -> boolean"
      ],
      "execution_count": 6,
      "outputs": [
        {
          "output_type": "stream",
          "text": [
            "<class 'int'>\n",
            "<class 'int'>\n",
            "<class 'int'>\n",
            "<class 'float'>\n",
            "<class 'float'>\n",
            "<class 'complex'>\n",
            "<class 'str'>\n",
            "<class 'str'>\n",
            "<class 'bool'>\n",
            "<class 'bool'>\n"
          ],
          "name": "stdout"
        }
      ]
    },
    {
      "cell_type": "markdown",
      "metadata": {
        "id": "N2rXAHqavZYe",
        "colab_type": "text"
      },
      "source": [
        "# Steps to create Github profile and upload Githubs Assignment link\n",
        "\n",
        "\n",
        "## 1.   Create Github Profile\n",
        "\n",
        "\n",
        "*   Go to [Github](https://github.com/)\n",
        "*   Create an account using your email\n",
        "\n",
        "*   Create a new repository with name **LetsUpgrade AI/ML**\n",
        "*   Upload assignments inside the respective folder with the day name.\n",
        "\n",
        "\n",
        "\n",
        "\n",
        "\n",
        "\n",
        "\n",
        "## 2.   Upload Assignment Link\n",
        "\n",
        "\n",
        "*   Go to this [link](https://bit.ly/aimlassignment)\n",
        "*   Fill in your details and the github repo link.\n",
        "\n",
        "\n",
        "\n"
      ]
    }
  ]
}