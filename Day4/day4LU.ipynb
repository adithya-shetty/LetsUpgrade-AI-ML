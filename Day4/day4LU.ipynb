{
  "nbformat": 4,
  "nbformat_minor": 0,
  "metadata": {
    "colab": {
      "name": "day4LU.ipynb",
      "provenance": []
    },
    "kernelspec": {
      "name": "python3",
      "display_name": "Python 3"
    }
  },
  "cells": [
    {
      "cell_type": "markdown",
      "metadata": {
        "id": "56Y69qn4nGQ2",
        "colab_type": "text"
      },
      "source": [
        "**Operations on complex numbers**"
      ]
    },
    {
      "cell_type": "code",
      "metadata": {
        "id": "8-8QOi_snB5P",
        "colab_type": "code",
        "colab": {
          "base_uri": "https://localhost:8080/",
          "height": 85
        },
        "outputId": "39808d15-f8b8-49d9-b75f-dbf44dcf1576"
      },
      "source": [
        "complex1 = 8+6j \n",
        "complex2 = 4+3j \n",
        "print( \"Addition of\",complex1, \" and\", complex2, \" is\",  complex1+complex2)\n",
        "print( \"Subtraction of\",complex1, \" and\", complex2, \" is\",  complex1-complex2)\n",
        "print( \"Multiplication of\",complex1, \" and\", complex2, \" is\",  complex1*complex2)\n",
        "print( \"Division of\",complex1, \" and\", complex2, \" is\",  complex1/complex2)\n",
        "#print( \"Floor Division of\",complex1, \" and\", complex2, \" is\",  complex1//complex2) ## Not supported\n",
        "#print( \"Modulo of\",complex1, \" and\", complex2, \" is\",  complex1%complex2) ## Not supported"
      ],
      "execution_count": 1,
      "outputs": [
        {
          "output_type": "stream",
          "text": [
            "Addition of (8+6j)  and (4+3j)  is (12+9j)\n",
            "Subtraction of (8+6j)  and (4+3j)  is (4+3j)\n",
            "Multiplication of (8+6j)  and (4+3j)  is (14+48j)\n",
            "Division of (8+6j)  and (4+3j)  is (2+0j)\n"
          ],
          "name": "stdout"
        }
      ]
    },
    {
      "cell_type": "markdown",
      "metadata": {
        "id": "xaKAB1ywoRgE",
        "colab_type": "text"
      },
      "source": [
        "### **Range Function**\n",
        "We can consider it like a tool which gives us a sequence of integer numbers\n",
        "### **Syntax** : *range(start_number, stop_number, step)*\n",
        "### Below is an example for usage of range within a for loop to print numbers in a specific sequence"
      ]
    },
    {
      "cell_type": "code",
      "metadata": {
        "id": "LquolzLVojtX",
        "colab_type": "code",
        "colab": {
          "base_uri": "https://localhost:8080/",
          "height": 51
        },
        "outputId": "54b37a77-a029-407e-f55a-483b1c66fb7c"
      },
      "source": [
        "print(range(0, 10, 2))\n",
        "for i in range(0, 10, 2):\n",
        "    print(i, end=', ') # Print only even numbers between 0-10 using step of 2"
      ],
      "execution_count": 2,
      "outputs": [
        {
          "output_type": "stream",
          "text": [
            "range(0, 10, 2)\n",
            "0, 2, 4, 6, 8, "
          ],
          "name": "stdout"
        }
      ]
    },
    {
      "cell_type": "markdown",
      "metadata": {
        "id": "h9wIV36PpePc",
        "colab_type": "text"
      },
      "source": [
        "**Consider two numbers. Perform their subtraction and if the result of subtraction is greater than\n",
        "25, print their multiplication result else print their division result**"
      ]
    },
    {
      "cell_type": "code",
      "metadata": {
        "id": "_CadK-wOpgN4",
        "colab_type": "code",
        "colab": {
          "base_uri": "https://localhost:8080/",
          "height": 85
        },
        "outputId": "d7e05566-e0a1-4e1d-f0b6-1eb2f09c5a6d"
      },
      "source": [
        "print(\"Case 1\")\n",
        "number1 = 100\n",
        "number2 = 20\n",
        "\n",
        "if number1-number2>25: #result of subtraction is 80\n",
        "  print(\"Result of Multiplication is \", number1*number2)\n",
        "else:\n",
        "  print(\"Result of Division is \", number1/number2)\n",
        "\n",
        "print(\"Case 2\")\n",
        "number1 = 40\n",
        "number2 = 20\n",
        "\n",
        "if number1-number2>25: #result of subtraction is 20\n",
        "  print(\"Result of Multiplication is \", number1*number2)\n",
        "else:\n",
        "  print(\"Result of Division is \", number1/number2)"
      ],
      "execution_count": 3,
      "outputs": [
        {
          "output_type": "stream",
          "text": [
            "Case 1\n",
            "Result of Multiplication is  2000\n",
            "Case 2\n",
            "Result of Division is  2.0\n"
          ],
          "name": "stdout"
        }
      ]
    },
    {
      "cell_type": "markdown",
      "metadata": {
        "id": "aPDJkfOXqcIu",
        "colab_type": "text"
      },
      "source": [
        "**Consider a list of 10 elements of integer values. If the number in the list is divisible by 2, print the\n",
        "result as \"square of that number minus 2\".**"
      ]
    },
    {
      "cell_type": "code",
      "metadata": {
        "id": "AJYktD2jqd9Z",
        "colab_type": "code",
        "colab": {
          "base_uri": "https://localhost:8080/",
          "height": 102
        },
        "outputId": "bfc7708f-798d-4bd4-8cb7-851a1cfc04f1"
      },
      "source": [
        "list_number = [1,2,3,4,5,6,7,8,9,10]\n",
        "\n",
        "for i in list_number:\n",
        "  if i%2 == 0:\n",
        "    print(\"square of \" , i , \" minus 2 is \", i**i-2)"
      ],
      "execution_count": 4,
      "outputs": [
        {
          "output_type": "stream",
          "text": [
            "square of  2  minus 2 is  2\n",
            "square of  4  minus 2 is  254\n",
            "square of  6  minus 2 is  46654\n",
            "square of  8  minus 2 is  16777214\n",
            "square of  10  minus 2 is  9999999998\n"
          ],
          "name": "stdout"
        }
      ]
    },
    {
      "cell_type": "markdown",
      "metadata": {
        "id": "Z-njcryBrEgr",
        "colab_type": "text"
      },
      "source": [
        "**Consider a list of 10 elements. Print all the elements in the list which are greater than 7 when that\n",
        "number is divided 2.**"
      ]
    },
    {
      "cell_type": "code",
      "metadata": {
        "id": "kWnyzBR8rHJv",
        "colab_type": "code",
        "colab": {
          "base_uri": "https://localhost:8080/",
          "height": 51
        },
        "outputId": "2e979218-338d-4039-f6b8-385d294fc7bb"
      },
      "source": [
        "list_number = [12,2,53,46,5,76,17,84,4,90]\n",
        "\n",
        "print(\"Required sequence of numbers are\")\n",
        "for i in list_number:\n",
        "  if i/2 > 7:\n",
        "    print(i, end=', ')"
      ],
      "execution_count": 5,
      "outputs": [
        {
          "output_type": "stream",
          "text": [
            "Required sequence of numbers are\n",
            "53, 46, 76, 17, 84, 90, "
          ],
          "name": "stdout"
        }
      ]
    }
  ]
}